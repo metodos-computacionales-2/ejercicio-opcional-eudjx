{
 "cells": [
  {
   "cell_type": "code",
   "execution_count": 1,
   "metadata": {},
   "outputs": [],
   "source": [
    "import numpy as np\n",
    "import matplotlib.pylab as plt\n",
    "\n",
    "N = 100;\n",
    "x = np.linspace(0,1,N)\n",
    "u = 2\n",
    "y=[]\n",
    "def tent():\n",
    "    for i in range(0,len(x)):\n",
    "        if(x[i]<0.5):\n",
    "            y.append(u*x[i])\n",
    "        elif(x[i]>=0.5):\n",
    "            y.append(u*(1-x[i]))"
   ]
  },
  {
   "cell_type": "code",
   "execution_count": null,
   "metadata": {},
   "outputs": [],
   "source": []
  }
 ],
 "metadata": {
  "kernelspec": {
   "display_name": "Python 3",
   "language": "python",
   "name": "python3"
  },
  "language_info": {
   "codemirror_mode": {
    "name": "ipython",
    "version": 3
   },
   "file_extension": ".py",
   "mimetype": "text/x-python",
   "name": "python",
   "nbconvert_exporter": "python",
   "pygments_lexer": "ipython3",
   "version": "3.7.3"
  }
 },
 "nbformat": 4,
 "nbformat_minor": 2
}
